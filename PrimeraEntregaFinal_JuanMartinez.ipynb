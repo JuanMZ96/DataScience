{
  "nbformat": 4,
  "nbformat_minor": 0,
  "metadata": {
    "colab": {
      "provenance": [],
      "authorship_tag": "ABX9TyOUp4n9m/Y3qwIehGnjb78U",
      "include_colab_link": true
    },
    "kernelspec": {
      "name": "python3",
      "display_name": "Python 3"
    },
    "language_info": {
      "name": "python"
    }
  },
  "cells": [
    {
      "cell_type": "markdown",
      "metadata": {
        "id": "view-in-github",
        "colab_type": "text"
      },
      "source": [
        "<a href=\"https://colab.research.google.com/github/JuanMZ96/DataScience/blob/main/PrimeraEntregaFinal_JuanMartinez.ipynb\" target=\"_parent\"><img src=\"https://colab.research.google.com/assets/colab-badge.svg\" alt=\"Open In Colab\"/></a>"
      ]
    },
    {
      "cell_type": "markdown",
      "source": [
        "## Primera Entrega Final 06/04"
      ],
      "metadata": {
        "id": "8UJ9tGIJkAlH"
      }
    },
    {
      "cell_type": "markdown",
      "source": [
        "##Introducción"
      ],
      "metadata": {
        "id": "ohDIR110KofU"
      }
    },
    {
      "cell_type": "markdown",
      "source": [
        "\n",
        "GamerClub es una plataforma que te permite jugar al counter strike global offensive por fuera del sistema oficial que tiene el juego. Tiene su propio ranking para nivelar a los jugadores, sus modos de juegos y sus propios torneos. Es una plataforma muy completa que te permite disfrutar de otra manera del juego. "
      ],
      "metadata": {
        "id": "f2XZPnQNkF27"
      }
    },
    {
      "cell_type": "markdown",
      "source": [
        "Con todas estas premisas se genera mucha información acerca del juego y de los jugodadores. Como pueden ser las estadisticas de cada partida, como mapa, cantidad kills, muertes, hs, entre otras variales que se pueden analizar. En cuanto a los jugadores se puede ver la cantidad total de lo mismos, como saber de que país es cada uno, como también saber la cantidad de jugadores pagan la suscripción."
      ],
      "metadata": {
        "id": "S-fFyr4_Ks1u"
      }
    },
    {
      "cell_type": "markdown",
      "source": [
        "En esta entrega vamos a intentar buscar poder predecir el mapa pero para esto es necesario un contexto de como es la selección de los mapas en las partidas"
      ],
      "metadata": {
        "id": "ZhT5urGKOU1c"
      }
    },
    {
      "cell_type": "markdown",
      "source": [
        "Para llegar a esa instancia de la selección del mapa es necesario primero generar un equipo de 5 jugadores y luego ir buscando otro equipo de 5 para poder jugar la partida. Una vez llegado a este punto donde los dos equipos están ya en un menú previo a la partida donde los capitanes de los equipos van votando que mapas no quieren jugar hasta quedar solamente uno."
      ],
      "metadata": {
        "id": "gsW9xGJWOesE"
      }
    },
    {
      "cell_type": "markdown",
      "source": [
        "El listado de mapas son los mismos mapas que se juegan de manera profesional y este va cambiando según lo decida la empresa que desarrolla el juego que saca del map pool(es la manera que decide al listado) mapas viejos y agrega nuevos, así mismo también lo puede hacer la plataforma para tener una rotación mas divertida porque el map pool cambia 1 o 2 veces con suerte en el año."
      ],
      "metadata": {
        "id": "Bz6fqUddO9au"
      }
    },
    {
      "cell_type": "markdown",
      "source": [
        "Mas adelante vamos a explicar la cantidad que hay y que es lo que mas se juega."
      ],
      "metadata": {
        "id": "3jdEIXbTPmBE"
      }
    },
    {
      "cell_type": "markdown",
      "source": [
        "## Obteniendo los datos relevantes"
      ],
      "metadata": {
        "id": "YBXYE_YOc6AC"
      }
    },
    {
      "cell_type": "code",
      "execution_count": null,
      "metadata": {
        "id": "ooV8rIgjjqZj"
      },
      "outputs": [],
      "source": [
        "from sklearn.model_selection import train_test_split\n",
        "from sklearn.metrics import ConfusionMatrixDisplay, confusion_matrix, accuracy_score\n",
        "import time\n",
        "\n",
        "#importo varios modelo para probar cual es el mejor\n",
        "from sklearn.neural_network import MLPClassifier\n",
        "from sklearn.neighbors import KNeighborsClassifier\n",
        "from sklearn.tree import DecisionTreeClassifier\n",
        "from sklearn.ensemble import RandomForestClassifier\n",
        "##\n",
        "\n",
        "from sklearn import metrics\n",
        "import pandas as pd\n",
        "import numpy as np\n",
        "from matplotlib import pyplot as plt\n",
        "import seaborn as sns\n",
        " \n",
        "from sklearn.preprocessing import LabelEncoder\n",
        "from sklearn.preprocessing import MinMaxScaler\n",
        "from sklearn.preprocessing import StandardScaler\n",
        "\n",
        "\n",
        "from sklearn.feature_selection import SelectKBest, chi2, SelectFdr,f_classif"
      ]
    },
    {
      "cell_type": "markdown",
      "source": [
        "#importamos los datos"
      ],
      "metadata": {
        "id": "peEckrOYJW1B"
      }
    },
    {
      "cell_type": "code",
      "source": [
        "def leerArchivo(token,tipoArchivo=None, separador=None):\n",
        "  #1UWWsv7r1ZEbwkBGbkMISFGskcDxcrPWy\n",
        "  \n",
        "  hash = token\n",
        "  url = \"https://drive.google.com/uc?export=download&id=\"+ hash\n",
        "\n",
        "  if tipoArchivo == \"csv\":\n",
        "     nombreArchivo = pd.read_csv(url, sep = separador )\n",
        "  elif tipoArchivo == \"xlsx\":\n",
        "    nombreArchivo = pd.read_excel(url, engine='openpyxl', index_col=0)\n",
        "  \n",
        "  \n",
        "  return nombreArchivo"
      ],
      "metadata": {
        "id": "fkRLdoQuLPJM"
      },
      "execution_count": null,
      "outputs": []
    },
    {
      "cell_type": "markdown",
      "source": [
        "Dejo el link del <a href= 'https://github.com/JuanMZ96/DataScience/blob/main/DataSet/PrimerDataSet/CSGO%20Stats.xlsx'>repo</a> donde está el dataset."
      ],
      "metadata": {
        "id": "5kCgmHX-xNbs"
      }
    },
    {
      "cell_type": "code",
      "source": [
        "'''\n",
        "url = 'https://raw.githubusercontent.com/JuanMZ96/DataScience/main/DataSet/PrimerDataSet/CSGO%20Stats.xlsx'\n",
        "\n",
        "csgo= pd.read_excel(url,engine='openpyxl') \n",
        "csgo\n",
        "'''\n",
        "# El primer esquema es para importar los datos desde un repo de gitHub pero como implemente una función para drive, decidí usarla.\n",
        "\n",
        "url = 'https://docs.google.com/spreadsheets/d/1QSwdFK1m-lCqC5Ror5TUPq1po0ATG2xz/edit?usp=share_link&ouid=114276064806046400891&rtpof=true&sd=true'\n",
        "token = url.split('/')\n",
        "\n",
        "csgo= leerArchivo(token[5],'xlsx')\n",
        "csgo"
      ],
      "metadata": {
        "colab": {
          "base_uri": "https://localhost:8080/",
          "height": 693
        },
        "id": "sMeUryl8kvQ-",
        "outputId": "63d4925f-1df8-431d-cf7f-2b4bf1c7263a"
      },
      "execution_count": null,
      "outputs": [
        {
          "output_type": "execute_result",
          "data": {
            "text/plain": [
              "             idPlayer  idRoom  qtKill  qtAssist  qtDeath  qtHs  qtBombeDefuse  \\\n",
              "idLobbyGame                                                                     \n",
              "1                   1       1       5         1       16     2              0   \n",
              "2                   1       2      24         3       18     6              0   \n",
              "3                   2       3       6         4       23     2              0   \n",
              "4                   2       4       8         4       26     6              0   \n",
              "5                   2       5      10         1       11     5              0   \n",
              "...               ...     ...     ...       ...      ...   ...            ...   \n",
              "172907           2716  178496      21         3       13     5              1   \n",
              "172908           2716  178497      15         1       22     5              0   \n",
              "172909           2716  178498       9         6       23     2              0   \n",
              "172910           2716  178499      15         5       20     6              0   \n",
              "172911           2716  178500      12         6       11     4              0   \n",
              "\n",
              "             qtBombePlant  qtTk  qtTkAssist  ...  qtHitChest  qtHitStomach  \\\n",
              "idLobbyGame                                  ...                             \n",
              "1                       0   0.0         0.0  ...       130.0          40.0   \n",
              "2                       4   0.0        10.0  ...       260.0         140.0   \n",
              "3                       1   0.0        10.0  ...       150.0          80.0   \n",
              "4                       2   0.0         0.0  ...       190.0         120.0   \n",
              "5                       3   0.0         0.0  ...        60.0          80.0   \n",
              "...                   ...   ...         ...  ...         ...           ...   \n",
              "172907                  1   0.0         0.0  ...       420.0         260.0   \n",
              "172908                  1   0.0         0.0  ...       210.0         210.0   \n",
              "172909                  3   0.0         0.0  ...       250.0         120.0   \n",
              "172910                  2   0.0         0.0  ...       220.0         160.0   \n",
              "172911                  1   0.0         0.0  ...       170.0          90.0   \n",
              "\n",
              "             qtHitLeftAtm  qtHitRightArm  qtHitLeftLeg  qtHitRightLeg  \\\n",
              "idLobbyGame                                                             \n",
              "1                    20.0           20.0          10.0            0.0   \n",
              "2                    20.0           10.0          10.0           30.0   \n",
              "3                    10.0           20.0           0.0           20.0   \n",
              "4                    20.0           30.0          20.0           50.0   \n",
              "5                     0.0            0.0          30.0            0.0   \n",
              "...                   ...            ...           ...            ...   \n",
              "172907               10.0           40.0          60.0           20.0   \n",
              "172908               30.0           70.0          20.0           40.0   \n",
              "172909               10.0           50.0          60.0           70.0   \n",
              "172910               20.0           80.0          30.0           60.0   \n",
              "172911               50.0           40.0          60.0           10.0   \n",
              "\n",
              "             flWinner         dtCreatedAt  tb_players.descCountry  \\\n",
              "idLobbyGame                                                         \n",
              "1                   0 2022-01-21 19:45:44                      cl   \n",
              "2                   1 2022-02-04 02:09:47                      cl   \n",
              "3                   0 2021-09-18 18:07:43                      br   \n",
              "4                   0 2021-09-27 00:17:45                      br   \n",
              "5                   1 2021-09-29 22:05:47                      br   \n",
              "...               ...                 ...                     ...   \n",
              "172907              1 2021-11-27 16:47:57                      br   \n",
              "172908              1 2021-12-10 01:08:48                      br   \n",
              "172909              0 2022-01-09 21:01:10                      br   \n",
              "172910              0 2022-01-14 17:42:37                      br   \n",
              "172911              1 2022-01-18 02:39:01                      br   \n",
              "\n",
              "             tb_players.dtBirth  \n",
              "idLobbyGame                      \n",
              "1                           NaT  \n",
              "2                           NaT  \n",
              "3                           NaT  \n",
              "4                           NaT  \n",
              "5                           NaT  \n",
              "...                         ...  \n",
              "172907               1999-12-04  \n",
              "172908               1999-12-04  \n",
              "172909               1999-12-04  \n",
              "172910               1999-12-04  \n",
              "172911               1999-12-04  \n",
              "\n",
              "[184152 rows x 39 columns]"
            ],
            "text/html": [
              "\n",
              "  <div id=\"df-8f413fc6-15e5-4b39-b481-5eb149075b8d\">\n",
              "    <div class=\"colab-df-container\">\n",
              "      <div>\n",
              "<style scoped>\n",
              "    .dataframe tbody tr th:only-of-type {\n",
              "        vertical-align: middle;\n",
              "    }\n",
              "\n",
              "    .dataframe tbody tr th {\n",
              "        vertical-align: top;\n",
              "    }\n",
              "\n",
              "    .dataframe thead th {\n",
              "        text-align: right;\n",
              "    }\n",
              "</style>\n",
              "<table border=\"1\" class=\"dataframe\">\n",
              "  <thead>\n",
              "    <tr style=\"text-align: right;\">\n",
              "      <th></th>\n",
              "      <th>idPlayer</th>\n",
              "      <th>idRoom</th>\n",
              "      <th>qtKill</th>\n",
              "      <th>qtAssist</th>\n",
              "      <th>qtDeath</th>\n",
              "      <th>qtHs</th>\n",
              "      <th>qtBombeDefuse</th>\n",
              "      <th>qtBombePlant</th>\n",
              "      <th>qtTk</th>\n",
              "      <th>qtTkAssist</th>\n",
              "      <th>...</th>\n",
              "      <th>qtHitChest</th>\n",
              "      <th>qtHitStomach</th>\n",
              "      <th>qtHitLeftAtm</th>\n",
              "      <th>qtHitRightArm</th>\n",
              "      <th>qtHitLeftLeg</th>\n",
              "      <th>qtHitRightLeg</th>\n",
              "      <th>flWinner</th>\n",
              "      <th>dtCreatedAt</th>\n",
              "      <th>tb_players.descCountry</th>\n",
              "      <th>tb_players.dtBirth</th>\n",
              "    </tr>\n",
              "    <tr>\n",
              "      <th>idLobbyGame</th>\n",
              "      <th></th>\n",
              "      <th></th>\n",
              "      <th></th>\n",
              "      <th></th>\n",
              "      <th></th>\n",
              "      <th></th>\n",
              "      <th></th>\n",
              "      <th></th>\n",
              "      <th></th>\n",
              "      <th></th>\n",
              "      <th></th>\n",
              "      <th></th>\n",
              "      <th></th>\n",
              "      <th></th>\n",
              "      <th></th>\n",
              "      <th></th>\n",
              "      <th></th>\n",
              "      <th></th>\n",
              "      <th></th>\n",
              "      <th></th>\n",
              "      <th></th>\n",
              "    </tr>\n",
              "  </thead>\n",
              "  <tbody>\n",
              "    <tr>\n",
              "      <th>1</th>\n",
              "      <td>1</td>\n",
              "      <td>1</td>\n",
              "      <td>5</td>\n",
              "      <td>1</td>\n",
              "      <td>16</td>\n",
              "      <td>2</td>\n",
              "      <td>0</td>\n",
              "      <td>0</td>\n",
              "      <td>0.0</td>\n",
              "      <td>0.0</td>\n",
              "      <td>...</td>\n",
              "      <td>130.0</td>\n",
              "      <td>40.0</td>\n",
              "      <td>20.0</td>\n",
              "      <td>20.0</td>\n",
              "      <td>10.0</td>\n",
              "      <td>0.0</td>\n",
              "      <td>0</td>\n",
              "      <td>2022-01-21 19:45:44</td>\n",
              "      <td>cl</td>\n",
              "      <td>NaT</td>\n",
              "    </tr>\n",
              "    <tr>\n",
              "      <th>2</th>\n",
              "      <td>1</td>\n",
              "      <td>2</td>\n",
              "      <td>24</td>\n",
              "      <td>3</td>\n",
              "      <td>18</td>\n",
              "      <td>6</td>\n",
              "      <td>0</td>\n",
              "      <td>4</td>\n",
              "      <td>0.0</td>\n",
              "      <td>10.0</td>\n",
              "      <td>...</td>\n",
              "      <td>260.0</td>\n",
              "      <td>140.0</td>\n",
              "      <td>20.0</td>\n",
              "      <td>10.0</td>\n",
              "      <td>10.0</td>\n",
              "      <td>30.0</td>\n",
              "      <td>1</td>\n",
              "      <td>2022-02-04 02:09:47</td>\n",
              "      <td>cl</td>\n",
              "      <td>NaT</td>\n",
              "    </tr>\n",
              "    <tr>\n",
              "      <th>3</th>\n",
              "      <td>2</td>\n",
              "      <td>3</td>\n",
              "      <td>6</td>\n",
              "      <td>4</td>\n",
              "      <td>23</td>\n",
              "      <td>2</td>\n",
              "      <td>0</td>\n",
              "      <td>1</td>\n",
              "      <td>0.0</td>\n",
              "      <td>10.0</td>\n",
              "      <td>...</td>\n",
              "      <td>150.0</td>\n",
              "      <td>80.0</td>\n",
              "      <td>10.0</td>\n",
              "      <td>20.0</td>\n",
              "      <td>0.0</td>\n",
              "      <td>20.0</td>\n",
              "      <td>0</td>\n",
              "      <td>2021-09-18 18:07:43</td>\n",
              "      <td>br</td>\n",
              "      <td>NaT</td>\n",
              "    </tr>\n",
              "    <tr>\n",
              "      <th>4</th>\n",
              "      <td>2</td>\n",
              "      <td>4</td>\n",
              "      <td>8</td>\n",
              "      <td>4</td>\n",
              "      <td>26</td>\n",
              "      <td>6</td>\n",
              "      <td>0</td>\n",
              "      <td>2</td>\n",
              "      <td>0.0</td>\n",
              "      <td>0.0</td>\n",
              "      <td>...</td>\n",
              "      <td>190.0</td>\n",
              "      <td>120.0</td>\n",
              "      <td>20.0</td>\n",
              "      <td>30.0</td>\n",
              "      <td>20.0</td>\n",
              "      <td>50.0</td>\n",
              "      <td>0</td>\n",
              "      <td>2021-09-27 00:17:45</td>\n",
              "      <td>br</td>\n",
              "      <td>NaT</td>\n",
              "    </tr>\n",
              "    <tr>\n",
              "      <th>5</th>\n",
              "      <td>2</td>\n",
              "      <td>5</td>\n",
              "      <td>10</td>\n",
              "      <td>1</td>\n",
              "      <td>11</td>\n",
              "      <td>5</td>\n",
              "      <td>0</td>\n",
              "      <td>3</td>\n",
              "      <td>0.0</td>\n",
              "      <td>0.0</td>\n",
              "      <td>...</td>\n",
              "      <td>60.0</td>\n",
              "      <td>80.0</td>\n",
              "      <td>0.0</td>\n",
              "      <td>0.0</td>\n",
              "      <td>30.0</td>\n",
              "      <td>0.0</td>\n",
              "      <td>1</td>\n",
              "      <td>2021-09-29 22:05:47</td>\n",
              "      <td>br</td>\n",
              "      <td>NaT</td>\n",
              "    </tr>\n",
              "    <tr>\n",
              "      <th>...</th>\n",
              "      <td>...</td>\n",
              "      <td>...</td>\n",
              "      <td>...</td>\n",
              "      <td>...</td>\n",
              "      <td>...</td>\n",
              "      <td>...</td>\n",
              "      <td>...</td>\n",
              "      <td>...</td>\n",
              "      <td>...</td>\n",
              "      <td>...</td>\n",
              "      <td>...</td>\n",
              "      <td>...</td>\n",
              "      <td>...</td>\n",
              "      <td>...</td>\n",
              "      <td>...</td>\n",
              "      <td>...</td>\n",
              "      <td>...</td>\n",
              "      <td>...</td>\n",
              "      <td>...</td>\n",
              "      <td>...</td>\n",
              "      <td>...</td>\n",
              "    </tr>\n",
              "    <tr>\n",
              "      <th>172907</th>\n",
              "      <td>2716</td>\n",
              "      <td>178496</td>\n",
              "      <td>21</td>\n",
              "      <td>3</td>\n",
              "      <td>13</td>\n",
              "      <td>5</td>\n",
              "      <td>1</td>\n",
              "      <td>1</td>\n",
              "      <td>0.0</td>\n",
              "      <td>0.0</td>\n",
              "      <td>...</td>\n",
              "      <td>420.0</td>\n",
              "      <td>260.0</td>\n",
              "      <td>10.0</td>\n",
              "      <td>40.0</td>\n",
              "      <td>60.0</td>\n",
              "      <td>20.0</td>\n",
              "      <td>1</td>\n",
              "      <td>2021-11-27 16:47:57</td>\n",
              "      <td>br</td>\n",
              "      <td>1999-12-04</td>\n",
              "    </tr>\n",
              "    <tr>\n",
              "      <th>172908</th>\n",
              "      <td>2716</td>\n",
              "      <td>178497</td>\n",
              "      <td>15</td>\n",
              "      <td>1</td>\n",
              "      <td>22</td>\n",
              "      <td>5</td>\n",
              "      <td>0</td>\n",
              "      <td>1</td>\n",
              "      <td>0.0</td>\n",
              "      <td>0.0</td>\n",
              "      <td>...</td>\n",
              "      <td>210.0</td>\n",
              "      <td>210.0</td>\n",
              "      <td>30.0</td>\n",
              "      <td>70.0</td>\n",
              "      <td>20.0</td>\n",
              "      <td>40.0</td>\n",
              "      <td>1</td>\n",
              "      <td>2021-12-10 01:08:48</td>\n",
              "      <td>br</td>\n",
              "      <td>1999-12-04</td>\n",
              "    </tr>\n",
              "    <tr>\n",
              "      <th>172909</th>\n",
              "      <td>2716</td>\n",
              "      <td>178498</td>\n",
              "      <td>9</td>\n",
              "      <td>6</td>\n",
              "      <td>23</td>\n",
              "      <td>2</td>\n",
              "      <td>0</td>\n",
              "      <td>3</td>\n",
              "      <td>0.0</td>\n",
              "      <td>0.0</td>\n",
              "      <td>...</td>\n",
              "      <td>250.0</td>\n",
              "      <td>120.0</td>\n",
              "      <td>10.0</td>\n",
              "      <td>50.0</td>\n",
              "      <td>60.0</td>\n",
              "      <td>70.0</td>\n",
              "      <td>0</td>\n",
              "      <td>2022-01-09 21:01:10</td>\n",
              "      <td>br</td>\n",
              "      <td>1999-12-04</td>\n",
              "    </tr>\n",
              "    <tr>\n",
              "      <th>172910</th>\n",
              "      <td>2716</td>\n",
              "      <td>178499</td>\n",
              "      <td>15</td>\n",
              "      <td>5</td>\n",
              "      <td>20</td>\n",
              "      <td>6</td>\n",
              "      <td>0</td>\n",
              "      <td>2</td>\n",
              "      <td>0.0</td>\n",
              "      <td>0.0</td>\n",
              "      <td>...</td>\n",
              "      <td>220.0</td>\n",
              "      <td>160.0</td>\n",
              "      <td>20.0</td>\n",
              "      <td>80.0</td>\n",
              "      <td>30.0</td>\n",
              "      <td>60.0</td>\n",
              "      <td>0</td>\n",
              "      <td>2022-01-14 17:42:37</td>\n",
              "      <td>br</td>\n",
              "      <td>1999-12-04</td>\n",
              "    </tr>\n",
              "    <tr>\n",
              "      <th>172911</th>\n",
              "      <td>2716</td>\n",
              "      <td>178500</td>\n",
              "      <td>12</td>\n",
              "      <td>6</td>\n",
              "      <td>11</td>\n",
              "      <td>4</td>\n",
              "      <td>0</td>\n",
              "      <td>1</td>\n",
              "      <td>0.0</td>\n",
              "      <td>0.0</td>\n",
              "      <td>...</td>\n",
              "      <td>170.0</td>\n",
              "      <td>90.0</td>\n",
              "      <td>50.0</td>\n",
              "      <td>40.0</td>\n",
              "      <td>60.0</td>\n",
              "      <td>10.0</td>\n",
              "      <td>1</td>\n",
              "      <td>2022-01-18 02:39:01</td>\n",
              "      <td>br</td>\n",
              "      <td>1999-12-04</td>\n",
              "    </tr>\n",
              "  </tbody>\n",
              "</table>\n",
              "<p>184152 rows × 39 columns</p>\n",
              "</div>\n",
              "      <button class=\"colab-df-convert\" onclick=\"convertToInteractive('df-8f413fc6-15e5-4b39-b481-5eb149075b8d')\"\n",
              "              title=\"Convert this dataframe to an interactive table.\"\n",
              "              style=\"display:none;\">\n",
              "        \n",
              "  <svg xmlns=\"http://www.w3.org/2000/svg\" height=\"24px\"viewBox=\"0 0 24 24\"\n",
              "       width=\"24px\">\n",
              "    <path d=\"M0 0h24v24H0V0z\" fill=\"none\"/>\n",
              "    <path d=\"M18.56 5.44l.94 2.06.94-2.06 2.06-.94-2.06-.94-.94-2.06-.94 2.06-2.06.94zm-11 1L8.5 8.5l.94-2.06 2.06-.94-2.06-.94L8.5 2.5l-.94 2.06-2.06.94zm10 10l.94 2.06.94-2.06 2.06-.94-2.06-.94-.94-2.06-.94 2.06-2.06.94z\"/><path d=\"M17.41 7.96l-1.37-1.37c-.4-.4-.92-.59-1.43-.59-.52 0-1.04.2-1.43.59L10.3 9.45l-7.72 7.72c-.78.78-.78 2.05 0 2.83L4 21.41c.39.39.9.59 1.41.59.51 0 1.02-.2 1.41-.59l7.78-7.78 2.81-2.81c.8-.78.8-2.07 0-2.86zM5.41 20L4 18.59l7.72-7.72 1.47 1.35L5.41 20z\"/>\n",
              "  </svg>\n",
              "      </button>\n",
              "      \n",
              "  <style>\n",
              "    .colab-df-container {\n",
              "      display:flex;\n",
              "      flex-wrap:wrap;\n",
              "      gap: 12px;\n",
              "    }\n",
              "\n",
              "    .colab-df-convert {\n",
              "      background-color: #E8F0FE;\n",
              "      border: none;\n",
              "      border-radius: 50%;\n",
              "      cursor: pointer;\n",
              "      display: none;\n",
              "      fill: #1967D2;\n",
              "      height: 32px;\n",
              "      padding: 0 0 0 0;\n",
              "      width: 32px;\n",
              "    }\n",
              "\n",
              "    .colab-df-convert:hover {\n",
              "      background-color: #E2EBFA;\n",
              "      box-shadow: 0px 1px 2px rgba(60, 64, 67, 0.3), 0px 1px 3px 1px rgba(60, 64, 67, 0.15);\n",
              "      fill: #174EA6;\n",
              "    }\n",
              "\n",
              "    [theme=dark] .colab-df-convert {\n",
              "      background-color: #3B4455;\n",
              "      fill: #D2E3FC;\n",
              "    }\n",
              "\n",
              "    [theme=dark] .colab-df-convert:hover {\n",
              "      background-color: #434B5C;\n",
              "      box-shadow: 0px 1px 3px 1px rgba(0, 0, 0, 0.15);\n",
              "      filter: drop-shadow(0px 1px 2px rgba(0, 0, 0, 0.3));\n",
              "      fill: #FFFFFF;\n",
              "    }\n",
              "  </style>\n",
              "\n",
              "      <script>\n",
              "        const buttonEl =\n",
              "          document.querySelector('#df-8f413fc6-15e5-4b39-b481-5eb149075b8d button.colab-df-convert');\n",
              "        buttonEl.style.display =\n",
              "          google.colab.kernel.accessAllowed ? 'block' : 'none';\n",
              "\n",
              "        async function convertToInteractive(key) {\n",
              "          const element = document.querySelector('#df-8f413fc6-15e5-4b39-b481-5eb149075b8d');\n",
              "          const dataTable =\n",
              "            await google.colab.kernel.invokeFunction('convertToInteractive',\n",
              "                                                     [key], {});\n",
              "          if (!dataTable) return;\n",
              "\n",
              "          const docLinkHtml = 'Like what you see? Visit the ' +\n",
              "            '<a target=\"_blank\" href=https://colab.research.google.com/notebooks/data_table.ipynb>data table notebook</a>'\n",
              "            + ' to learn more about interactive tables.';\n",
              "          element.innerHTML = '';\n",
              "          dataTable['output_type'] = 'display_data';\n",
              "          await google.colab.output.renderOutput(dataTable, element);\n",
              "          const docLink = document.createElement('div');\n",
              "          docLink.innerHTML = docLinkHtml;\n",
              "          element.appendChild(docLink);\n",
              "        }\n",
              "      </script>\n",
              "    </div>\n",
              "  </div>\n",
              "  "
            ]
          },
          "metadata": {},
          "execution_count": 3
        }
      ]
    },
    {
      "cell_type": "markdown",
      "source": [
        "## Preguntas"
      ],
      "metadata": {
        "id": "LQpH3pqZJZBz"
      }
    },
    {
      "cell_type": "markdown",
      "source": [
        "<h3> ¿Se puede predecir el mapa que se juega?"
      ],
      "metadata": {
        "id": "XeFbJ1maSXIq"
      }
    },
    {
      "cell_type": "markdown",
      "source": [
        "Para poder realizar esto se requiere realizar cosas previas para entender el resultado que se va a obtener"
      ],
      "metadata": {
        "id": "AQOgXs4EScy6"
      }
    },
    {
      "cell_type": "markdown",
      "source": [
        "Primero empecemos poder saber la información que tenemos"
      ],
      "metadata": {
        "id": "ov9jKMvXSiiA"
      }
    },
    {
      "cell_type": "markdown",
      "source": [
        "<h3>¿Cuál es el listado de mapa?"
      ],
      "metadata": {
        "id": "U0QKwCvxNtos"
      }
    },
    {
      "cell_type": "markdown",
      "source": [
        "Para poder ver esto vamos a generar una nueva tabla para poder identificar el listado y la cantidad jugados con un porcentaje del mismo"
      ],
      "metadata": {
        "id": "sjaa43JoN3tH"
      }
    },
    {
      "cell_type": "code",
      "source": [
        "# Creando tabla de mapas\n",
        "frecuencia_mapa = csgo.value_counts('descMapName')\n",
        "porcentaje_mapa = csgo.value_counts('descMapName', normalize=True) * 100\n",
        "tab_freq_mapa = pd.DataFrame({'frecuencia':frecuencia_mapa, 'porcentaje':porcentaje_mapa}).reset_index()\n",
        "tab_freq_mapa.rename(columns={'descMapName':'mapa'}, inplace=True)\n",
        "tab_freq_mapa"
      ],
      "metadata": {
        "colab": {
          "base_uri": "https://localhost:8080/",
          "height": 300
        },
        "id": "SaFB-vLgQJ_Z",
        "outputId": "7b52ee46-a508-4551-8b55-cd1cea790af0"
      },
      "execution_count": null,
      "outputs": [
        {
          "output_type": "execute_result",
          "data": {
            "text/plain": [
              "          mapa  frecuencia  porcentaje\n",
              "0    de_mirage       58101   31.550567\n",
              "1   de_inferno       42073   22.846887\n",
              "2     de_dust2       23834   12.942569\n",
              "3   de_vertigo       19924   10.819323\n",
              "4  de_overpass       14088    7.650202\n",
              "5      de_nuke       14053    7.631196\n",
              "6     de_train        7846    4.260611\n",
              "7   de_ancient        4233    2.298645"
            ],
            "text/html": [
              "\n",
              "  <div id=\"df-72ab48e6-ddaf-4381-b9c1-d21c8e904d46\">\n",
              "    <div class=\"colab-df-container\">\n",
              "      <div>\n",
              "<style scoped>\n",
              "    .dataframe tbody tr th:only-of-type {\n",
              "        vertical-align: middle;\n",
              "    }\n",
              "\n",
              "    .dataframe tbody tr th {\n",
              "        vertical-align: top;\n",
              "    }\n",
              "\n",
              "    .dataframe thead th {\n",
              "        text-align: right;\n",
              "    }\n",
              "</style>\n",
              "<table border=\"1\" class=\"dataframe\">\n",
              "  <thead>\n",
              "    <tr style=\"text-align: right;\">\n",
              "      <th></th>\n",
              "      <th>mapa</th>\n",
              "      <th>frecuencia</th>\n",
              "      <th>porcentaje</th>\n",
              "    </tr>\n",
              "  </thead>\n",
              "  <tbody>\n",
              "    <tr>\n",
              "      <th>0</th>\n",
              "      <td>de_mirage</td>\n",
              "      <td>58101</td>\n",
              "      <td>31.550567</td>\n",
              "    </tr>\n",
              "    <tr>\n",
              "      <th>1</th>\n",
              "      <td>de_inferno</td>\n",
              "      <td>42073</td>\n",
              "      <td>22.846887</td>\n",
              "    </tr>\n",
              "    <tr>\n",
              "      <th>2</th>\n",
              "      <td>de_dust2</td>\n",
              "      <td>23834</td>\n",
              "      <td>12.942569</td>\n",
              "    </tr>\n",
              "    <tr>\n",
              "      <th>3</th>\n",
              "      <td>de_vertigo</td>\n",
              "      <td>19924</td>\n",
              "      <td>10.819323</td>\n",
              "    </tr>\n",
              "    <tr>\n",
              "      <th>4</th>\n",
              "      <td>de_overpass</td>\n",
              "      <td>14088</td>\n",
              "      <td>7.650202</td>\n",
              "    </tr>\n",
              "    <tr>\n",
              "      <th>5</th>\n",
              "      <td>de_nuke</td>\n",
              "      <td>14053</td>\n",
              "      <td>7.631196</td>\n",
              "    </tr>\n",
              "    <tr>\n",
              "      <th>6</th>\n",
              "      <td>de_train</td>\n",
              "      <td>7846</td>\n",
              "      <td>4.260611</td>\n",
              "    </tr>\n",
              "    <tr>\n",
              "      <th>7</th>\n",
              "      <td>de_ancient</td>\n",
              "      <td>4233</td>\n",
              "      <td>2.298645</td>\n",
              "    </tr>\n",
              "  </tbody>\n",
              "</table>\n",
              "</div>\n",
              "      <button class=\"colab-df-convert\" onclick=\"convertToInteractive('df-72ab48e6-ddaf-4381-b9c1-d21c8e904d46')\"\n",
              "              title=\"Convert this dataframe to an interactive table.\"\n",
              "              style=\"display:none;\">\n",
              "        \n",
              "  <svg xmlns=\"http://www.w3.org/2000/svg\" height=\"24px\"viewBox=\"0 0 24 24\"\n",
              "       width=\"24px\">\n",
              "    <path d=\"M0 0h24v24H0V0z\" fill=\"none\"/>\n",
              "    <path d=\"M18.56 5.44l.94 2.06.94-2.06 2.06-.94-2.06-.94-.94-2.06-.94 2.06-2.06.94zm-11 1L8.5 8.5l.94-2.06 2.06-.94-2.06-.94L8.5 2.5l-.94 2.06-2.06.94zm10 10l.94 2.06.94-2.06 2.06-.94-2.06-.94-.94-2.06-.94 2.06-2.06.94z\"/><path d=\"M17.41 7.96l-1.37-1.37c-.4-.4-.92-.59-1.43-.59-.52 0-1.04.2-1.43.59L10.3 9.45l-7.72 7.72c-.78.78-.78 2.05 0 2.83L4 21.41c.39.39.9.59 1.41.59.51 0 1.02-.2 1.41-.59l7.78-7.78 2.81-2.81c.8-.78.8-2.07 0-2.86zM5.41 20L4 18.59l7.72-7.72 1.47 1.35L5.41 20z\"/>\n",
              "  </svg>\n",
              "      </button>\n",
              "      \n",
              "  <style>\n",
              "    .colab-df-container {\n",
              "      display:flex;\n",
              "      flex-wrap:wrap;\n",
              "      gap: 12px;\n",
              "    }\n",
              "\n",
              "    .colab-df-convert {\n",
              "      background-color: #E8F0FE;\n",
              "      border: none;\n",
              "      border-radius: 50%;\n",
              "      cursor: pointer;\n",
              "      display: none;\n",
              "      fill: #1967D2;\n",
              "      height: 32px;\n",
              "      padding: 0 0 0 0;\n",
              "      width: 32px;\n",
              "    }\n",
              "\n",
              "    .colab-df-convert:hover {\n",
              "      background-color: #E2EBFA;\n",
              "      box-shadow: 0px 1px 2px rgba(60, 64, 67, 0.3), 0px 1px 3px 1px rgba(60, 64, 67, 0.15);\n",
              "      fill: #174EA6;\n",
              "    }\n",
              "\n",
              "    [theme=dark] .colab-df-convert {\n",
              "      background-color: #3B4455;\n",
              "      fill: #D2E3FC;\n",
              "    }\n",
              "\n",
              "    [theme=dark] .colab-df-convert:hover {\n",
              "      background-color: #434B5C;\n",
              "      box-shadow: 0px 1px 3px 1px rgba(0, 0, 0, 0.15);\n",
              "      filter: drop-shadow(0px 1px 2px rgba(0, 0, 0, 0.3));\n",
              "      fill: #FFFFFF;\n",
              "    }\n",
              "  </style>\n",
              "\n",
              "      <script>\n",
              "        const buttonEl =\n",
              "          document.querySelector('#df-72ab48e6-ddaf-4381-b9c1-d21c8e904d46 button.colab-df-convert');\n",
              "        buttonEl.style.display =\n",
              "          google.colab.kernel.accessAllowed ? 'block' : 'none';\n",
              "\n",
              "        async function convertToInteractive(key) {\n",
              "          const element = document.querySelector('#df-72ab48e6-ddaf-4381-b9c1-d21c8e904d46');\n",
              "          const dataTable =\n",
              "            await google.colab.kernel.invokeFunction('convertToInteractive',\n",
              "                                                     [key], {});\n",
              "          if (!dataTable) return;\n",
              "\n",
              "          const docLinkHtml = 'Like what you see? Visit the ' +\n",
              "            '<a target=\"_blank\" href=https://colab.research.google.com/notebooks/data_table.ipynb>data table notebook</a>'\n",
              "            + ' to learn more about interactive tables.';\n",
              "          element.innerHTML = '';\n",
              "          dataTable['output_type'] = 'display_data';\n",
              "          await google.colab.output.renderOutput(dataTable, element);\n",
              "          const docLink = document.createElement('div');\n",
              "          docLink.innerHTML = docLinkHtml;\n",
              "          element.appendChild(docLink);\n",
              "        }\n",
              "      </script>\n",
              "    </div>\n",
              "  </div>\n",
              "  "
            ]
          },
          "metadata": {},
          "execution_count": 7
        }
      ]
    },
    {
      "cell_type": "code",
      "source": [
        "total = csgo.value_counts('descMapName')\n",
        "print(total.sum())"
      ],
      "metadata": {
        "colab": {
          "base_uri": "https://localhost:8080/"
        },
        "id": "ajEghVz3QsPV",
        "outputId": "13c9daae-659b-47bb-de1c-4858807782e7"
      },
      "execution_count": null,
      "outputs": [
        {
          "output_type": "stream",
          "name": "stdout",
          "text": [
            "184152\n"
          ]
        }
      ]
    },
    {
      "cell_type": "markdown",
      "source": [
        "Vamos a generar un gráfico para poder ver de manera mas clara estos datos"
      ],
      "metadata": {
        "id": "DCFqh_vLQbIn"
      }
    },
    {
      "cell_type": "code",
      "source": [
        "sns.set(rc={'figure.figsize':(30,8)})\n",
        "sns.barplot(x=\"mapa\", y = \"porcentaje\", data = tab_freq_mapa)"
      ],
      "metadata": {
        "colab": {
          "base_uri": "https://localhost:8080/",
          "height": 550
        },
        "id": "0KvTE2yKQYei",
        "outputId": "d361ce42-426f-40cf-d275-e6657e44c2d6"
      },
      "execution_count": null,
      "outputs": [
        {
          "output_type": "execute_result",
          "data": {
            "text/plain": [
              "<Axes: xlabel='mapa', ylabel='porcentaje'>"
            ]
          },
          "metadata": {},
          "execution_count": 8
        },
        {
          "output_type": "display_data",
          "data": {
            "text/plain": [
              "<Figure size 3000x800 with 1 Axes>"
            ],
            "image/png": "[encoded data removed]"
          },
          "metadata": {}
        }
      ]
    },
    {
      "cell_type": "markdown",
      "source": [
        "Podemos observar de la totalidad de 184152 mapas jugadores, se ve que los mapas mas jugados son los de \"Mirage\" y \"Inferno\". Estos datos no sorprenden porque son los mapas clasico que siempre se juegan, así como que el último que tiene menos cantidad sea \"Ancient\" porque fue el último mapa en ser ingresado en el map pool."
      ],
      "metadata": {
        "id": "Y9TnZmZ-QjUn"
      }
    },
    {
      "cell_type": "markdown",
      "source": [
        "<h4> Limpieza de datos"
      ],
      "metadata": {
        "id": "oFow89WaUcdg"
      }
    },
    {
      "cell_type": "markdown",
      "source": [
        "Ahora para poder empezar con los modelos es necesario realizar ciertas tareas para poder mejorar optimizar y hacer mas eficiente el proceso"
      ],
      "metadata": {
        "id": "YcyEhbQhUi_q"
      }
    },
    {
      "cell_type": "markdown",
      "source": [
        "Vamos a ver cuantos vacios tengo en mi DataFrame"
      ],
      "metadata": {
        "id": "GxxaQZ21WJjG"
      }
    },
    {
      "cell_type": "code",
      "source": [
        "csgo_NA = csgo.isnull().sum()\n",
        "csgo_NA"
      ],
      "metadata": {
        "colab": {
          "base_uri": "https://localhost:8080/"
        },
        "id": "o6hSHMP1GgU5",
        "outputId": "5ffa350b-186b-4d6c-f4d2-fbf367b6dfd9"
      },
      "execution_count": null,
      "outputs": [
        {
          "output_type": "execute_result",
          "data": {
            "text/plain": [
              "idPlayer                      0\n",
              "idRoom                        0\n",
              "qtKill                        0\n",
              "qtAssist                      0\n",
              "qtDeath                       0\n",
              "qtHs                          0\n",
              "qtBombeDefuse                 0\n",
              "qtBombePlant                  0\n",
              "qtTk                        120\n",
              "qtTkAssist                  120\n",
              "qt1Kill                       0\n",
              "qt2Kill                       0\n",
              "qt3Kill                       0\n",
              "qt4Kill                       0\n",
              "qt5Kill                       0\n",
              "qtPlusKill                    0\n",
              "qtFirstKill                   0\n",
              "vlDamage                      0\n",
              "qtHits                      120\n",
              "qtShots                       0\n",
              "qtLastAlive                 120\n",
              "qtClutchWon                   0\n",
              "qtRoundsPlayed                0\n",
              "descMapName                   0\n",
              "vlLevel                       0\n",
              "qtSurvived                  705\n",
              "qtTrade                     705\n",
              "qtFlashAssist               705\n",
              "qtHitHeadshot               705\n",
              "qtHitChest                  705\n",
              "qtHitStomach                705\n",
              "qtHitLeftAtm                705\n",
              "qtHitRightArm               705\n",
              "qtHitLeftLeg                705\n",
              "qtHitRightLeg               705\n",
              "flWinner                      0\n",
              "dtCreatedAt                   0\n",
              "tb_players.descCountry        0\n",
              "tb_players.dtBirth        23209\n",
              "dtype: int64"
            ]
          },
          "metadata": {},
          "execution_count": 13
        }
      ]
    },
    {
      "cell_type": "markdown",
      "source": [
        "Comprobamos que tienen bastante y vamos a completarlas con 0, solamente para poder chequear después cuales van a ser las columnas seleccionadas para el modelo."
      ],
      "metadata": {
        "id": "xxYr8L6OJfXQ"
      }
    },
    {
      "cell_type": "code",
      "source": [
        "csgo2 = csgo.fillna(0)\n",
        "\n",
        "csgo_NA = csgo2.isnull().sum()\n",
        "csgo_NA\n",
        "#Ahora csgo2 no tiene vacios"
      ],
      "metadata": {
        "colab": {
          "base_uri": "https://localhost:8080/"
        },
        "id": "o6QunP5d2OeW",
        "outputId": "e6030b1c-d821-4d40-9b79-c5ab1f601d03"
      },
      "execution_count": null,
      "outputs": [
        {
          "output_type": "execute_result",
          "data": {
            "text/plain": [
              "idPlayer                  0\n",
              "idRoom                    0\n",
              "qtKill                    0\n",
              "qtAssist                  0\n",
              "qtDeath                   0\n",
              "qtHs                      0\n",
              "qtBombeDefuse             0\n",
              "qtBombePlant              0\n",
              "qtTk                      0\n",
              "qtTkAssist                0\n",
              "qt1Kill                   0\n",
              "qt2Kill                   0\n",
              "qt3Kill                   0\n",
              "qt4Kill                   0\n",
              "qt5Kill                   0\n",
              "qtPlusKill                0\n",
              "qtFirstKill               0\n",
              "vlDamage                  0\n",
              "qtHits                    0\n",
              "qtShots                   0\n",
              "qtLastAlive               0\n",
              "qtClutchWon               0\n",
              "qtRoundsPlayed            0\n",
              "descMapName               0\n",
              "vlLevel                   0\n",
              "qtSurvived                0\n",
              "qtTrade                   0\n",
              "qtFlashAssist             0\n",
              "qtHitHeadshot             0\n",
              "qtHitChest                0\n",
              "qtHitStomach              0\n",
              "qtHitLeftAtm              0\n",
              "qtHitRightArm             0\n",
              "qtHitLeftLeg              0\n",
              "qtHitRightLeg             0\n",
              "flWinner                  0\n",
              "dtCreatedAt               0\n",
              "tb_players.descCountry    0\n",
              "tb_players.dtBirth        0\n",
              "dtype: int64"
            ]
          },
          "metadata": {},
          "execution_count": 14
        }
      ]
    },
    {
      "cell_type": "markdown",
      "source": [
        "Vamos a sacar las columnas que no nos sirven para poder seleccionar las columnas candidatas aplicando chi cuadrado"
      ],
      "metadata": {
        "id": "iEpE3nsaJ9dL"
      }
    },
    {
      "cell_type": "markdown",
      "source": [
        "Estamos buscando las columnas que nos van ayudar a predecir las mejores condiciones para obtener la victoria en la partida. Para poder lograr eso tenemos que cambiar nuestra columna donde dice los mapas a valores númericos"
      ],
      "metadata": {
        "id": "o-VwqGNrKmhA"
      }
    },
    {
      "cell_type": "code",
      "source": [
        "mapas = csgo['descMapName'].unique()\n",
        "mapas"
      ],
      "metadata": {
        "colab": {
          "base_uri": "https://localhost:8080/"
        },
        "id": "TzsDIzNkjbCJ",
        "outputId": "5750ef70-2bb0-4301-c55c-fed423c4b640"
      },
      "execution_count": null,
      "outputs": [
        {
          "output_type": "execute_result",
          "data": {
            "text/plain": [
              "array(['de_mirage', 'de_nuke', 'de_inferno', 'de_vertigo', 'de_ancient',\n",
              "       'de_dust2', 'de_train', 'de_overpass'], dtype=object)"
            ]
          },
          "metadata": {},
          "execution_count": 97
        }
      ]
    },
    {
      "cell_type": "markdown",
      "source": [
        "Por lo tanto generamos una nueva tabla que contenga unicamente los nombre de los mapas y asignando de manera ordenada un \"Id\" para poder identificarlo"
      ],
      "metadata": {
        "id": "A-DYrZCxnURr"
      }
    },
    {
      "cell_type": "code",
      "source": [
        "mapatabla = pd.DataFrame(mapas)\n",
        "mapatabla.columns = ['descMapName']\n",
        "mapatabla['id_map'] = range(1,9)\n",
        "mapatabla\n"
      ],
      "metadata": {
        "colab": {
          "base_uri": "https://localhost:8080/",
          "height": 300
        },
        "id": "KTKYC3xnj8sU",
        "outputId": "c2300800-2343-44fa-a802-2f009f574a48"
      },
      "execution_count": null,
      "outputs": [
        {
          "output_type": "execute_result",
          "data": {
            "text/plain": [
              "   descMapName  id_map\n",
              "0    de_mirage       1\n",
              "1      de_nuke       2\n",
              "2   de_inferno       3\n",
              "3   de_vertigo       4\n",
              "4   de_ancient       5\n",
              "5     de_dust2       6\n",
              "6     de_train       7\n",
              "7  de_overpass       8"
            ],
            "text/html": [
              "\n",
              "  <div id=\"df-74070899-29e4-44cb-a933-d423ab13700c\">\n",
              "    <div class=\"colab-df-container\">\n",
              "      <div>\n",
              "<style scoped>\n",
              "    .dataframe tbody tr th:only-of-type {\n",
              "        vertical-align: middle;\n",
              "    }\n",
              "\n",
              "    .dataframe tbody tr th {\n",
              "        vertical-align: top;\n",
              "    }\n",
              "\n",
              "    .dataframe thead th {\n",
              "        text-align: right;\n",
              "    }\n",
              "</style>\n",
              "<table border=\"1\" class=\"dataframe\">\n",
              "  <thead>\n",
              "    <tr style=\"text-align: right;\">\n",
              "      <th></th>\n",
              "      <th>descMapName</th>\n",
              "      <th>id_map</th>\n",
              "    </tr>\n",
              "  </thead>\n",
              "  <tbody>\n",
              "    <tr>\n",
              "      <th>0</th>\n",
              "      <td>de_mirage</td>\n",
              "      <td>1</td>\n",
              "    </tr>\n",
              "    <tr>\n",
              "      <th>1</th>\n",
              "      <td>de_nuke</td>\n",
              "      <td>2</td>\n",
              "    </tr>\n",
              "    <tr>\n",
              "      <th>2</th>\n",
              "      <td>de_inferno</td>\n",
              "      <td>3</td>\n",
              "    </tr>\n",
              "    <tr>\n",
              "      <th>3</th>\n",
              "      <td>de_vertigo</td>\n",
              "      <td>4</td>\n",
              "    </tr>\n",
              "    <tr>\n",
              "      <th>4</th>\n",
              "      <td>de_ancient</td>\n",
              "      <td>5</td>\n",
              "    </tr>\n",
              "    <tr>\n",
              "      <th>5</th>\n",
              "      <td>de_dust2</td>\n",
              "      <td>6</td>\n",
              "    </tr>\n",
              "    <tr>\n",
              "      <th>6</th>\n",
              "      <td>de_train</td>\n",
              "      <td>7</td>\n",
              "    </tr>\n",
              "    <tr>\n",
              "      <th>7</th>\n",
              "      <td>de_overpass</td>\n",
              "      <td>8</td>\n",
              "    </tr>\n",
              "  </tbody>\n",
              "</table>\n",
              "</div>\n",
              "      <button class=\"colab-df-convert\" onclick=\"convertToInteractive('df-74070899-29e4-44cb-a933-d423ab13700c')\"\n",
              "              title=\"Convert this dataframe to an interactive table.\"\n",
              "              style=\"display:none;\">\n",
              "        \n",
              "  <svg xmlns=\"http://www.w3.org/2000/svg\" height=\"24px\"viewBox=\"0 0 24 24\"\n",
              "       width=\"24px\">\n",
              "    <path d=\"M0 0h24v24H0V0z\" fill=\"none\"/>\n",
              "    <path d=\"M18.56 5.44l.94 2.06.94-2.06 2.06-.94-2.06-.94-.94-2.06-.94 2.06-2.06.94zm-11 1L8.5 8.5l.94-2.06 2.06-.94-2.06-.94L8.5 2.5l-.94 2.06-2.06.94zm10 10l.94 2.06.94-2.06 2.06-.94-2.06-.94-.94-2.06-.94 2.06-2.06.94z\"/><path d=\"M17.41 7.96l-1.37-1.37c-.4-.4-.92-.59-1.43-.59-.52 0-1.04.2-1.43.59L10.3 9.45l-7.72 7.72c-.78.78-.78 2.05 0 2.83L4 21.41c.39.39.9.59 1.41.59.51 0 1.02-.2 1.41-.59l7.78-7.78 2.81-2.81c.8-.78.8-2.07 0-2.86zM5.41 20L4 18.59l7.72-7.72 1.47 1.35L5.41 20z\"/>\n",
              "  </svg>\n",
              "      </button>\n",
              "      \n",
              "  <style>\n",
              "    .colab-df-container {\n",
              "      display:flex;\n",
              "      flex-wrap:wrap;\n",
              "      gap: 12px;\n",
              "    }\n",
              "\n",
              "    .colab-df-convert {\n",
              "      background-color: #E8F0FE;\n",
              "      border: none;\n",
              "      border-radius: 50%;\n",
              "      cursor: pointer;\n",
              "      display: none;\n",
              "      fill: #1967D2;\n",
              "      height: 32px;\n",
              "      padding: 0 0 0 0;\n",
              "      width: 32px;\n",
              "    }\n",
              "\n",
              "    .colab-df-convert:hover {\n",
              "      background-color: #E2EBFA;\n",
              "      box-shadow: 0px 1px 2px rgba(60, 64, 67, 0.3), 0px 1px 3px 1px rgba(60, 64, 67, 0.15);\n",
              "      fill: #174EA6;\n",
              "    }\n",
              "\n",
              "    [theme=dark] .colab-df-convert {\n",
              "      background-color: #3B4455;\n",
              "      fill: #D2E3FC;\n",
              "    }\n",
              "\n",
              "    [theme=dark] .colab-df-convert:hover {\n",
              "      background-color: #434B5C;\n",
              "      box-shadow: 0px 1px 3px 1px rgba(0, 0, 0, 0.15);\n",
              "      filter: drop-shadow(0px 1px 2px rgba(0, 0, 0, 0.3));\n",
              "      fill: #FFFFFF;\n",
              "    }\n",
              "  </style>\n",
              "\n",
              "      <script>\n",
              "        const buttonEl =\n",
              "          document.querySelector('#df-74070899-29e4-44cb-a933-d423ab13700c button.colab-df-convert');\n",
              "        buttonEl.style.display =\n",
              "          google.colab.kernel.accessAllowed ? 'block' : 'none';\n",
              "\n",
              "        async function convertToInteractive(key) {\n",
              "          const element = document.querySelector('#df-74070899-29e4-44cb-a933-d423ab13700c');\n",
              "          const dataTable =\n",
              "            await google.colab.kernel.invokeFunction('convertToInteractive',\n",
              "                                                     [key], {});\n",
              "          if (!dataTable) return;\n",
              "\n",
              "          const docLinkHtml = 'Like what you see? Visit the ' +\n",
              "            '<a target=\"_blank\" href=https://colab.research.google.com/notebooks/data_table.ipynb>data table notebook</a>'\n",
              "            + ' to learn more about interactive tables.';\n",
              "          element.innerHTML = '';\n",
              "          dataTable['output_type'] = 'display_data';\n",
              "          await google.colab.output.renderOutput(dataTable, element);\n",
              "          const docLink = document.createElement('div');\n",
              "          docLink.innerHTML = docLinkHtml;\n",
              "          element.appendChild(docLink);\n",
              "        }\n",
              "      </script>\n",
              "    </div>\n",
              "  </div>\n",
              "  "
            ]
          },
          "metadata": {},
          "execution_count": 98
        }
      ]
    },
    {
      "cell_type": "markdown",
      "source": [
        "Está práctica se puede realizar de manera mas sencilla usando la librearias de \"sklearn\", los modulos de \"compose\" y \"preprocessing\", que contienen las funciones que permiten realizar estas modificaciones de manera mas rápida."
      ],
      "metadata": {
        "id": "kBSx27EPncXZ"
      }
    },
    {
      "cell_type": "markdown",
      "source": [
        "Una vez tengamos la tabla hacemos un \"inner join\" para unir esos id con el dataset original."
      ],
      "metadata": {
        "id": "6_D6cl76od8g"
      }
    },
    {
      "cell_type": "code",
      "source": [
        "csgo_union = pd.merge(csgo2, mapatabla, on='descMapName', how='inner')\n",
        "result = csgo_union.dtypes\n",
        "print(result)"
      ],
      "metadata": {
        "colab": {
          "base_uri": "https://localhost:8080/"
        },
        "id": "TWrsXhZ-lljL",
        "outputId": "d716eb73-d541-4013-add5-3b066675e586"
      },
      "execution_count": null,
      "outputs": [
        {
          "output_type": "stream",
          "name": "stdout",
          "text": [
            "idPlayer                           int64\n",
            "idRoom                             int64\n",
            "qtKill                             int64\n",
            "qtAssist                           int64\n",
            "qtDeath                            int64\n",
            "qtHs                               int64\n",
            "qtBombeDefuse                      int64\n",
            "qtBombePlant                       int64\n",
            "qtTk                             float64\n",
            "qtTkAssist                       float64\n",
            "qt1Kill                            int64\n",
            "qt2Kill                            int64\n",
            "qt3Kill                            int64\n",
            "qt4Kill                            int64\n",
            "qt5Kill                            int64\n",
            "qtPlusKill                         int64\n",
            "qtFirstKill                        int64\n",
            "vlDamage                           int64\n",
            "qtHits                           float64\n",
            "qtShots                            int64\n",
            "qtLastAlive                      float64\n",
            "qtClutchWon                        int64\n",
            "qtRoundsPlayed                     int64\n",
            "descMapName                       object\n",
            "vlLevel                            int64\n",
            "qtSurvived                       float64\n",
            "qtTrade                          float64\n",
            "qtFlashAssist                    float64\n",
            "qtHitHeadshot                    float64\n",
            "qtHitChest                       float64\n",
            "qtHitStomach                     float64\n",
            "qtHitLeftAtm                     float64\n",
            "qtHitRightArm                    float64\n",
            "qtHitLeftLeg                     float64\n",
            "qtHitRightLeg                    float64\n",
            "flWinner                           int64\n",
            "dtCreatedAt               datetime64[ns]\n",
            "tb_players.descCountry            object\n",
            "tb_players.dtBirth                object\n",
            "id_map                             int64\n",
            "dtype: object\n"
          ]
        }
      ]
    },
    {
      "cell_type": "markdown",
      "source": [
        "Y ahora vamos buscar cuales son las mejores columnas para determinar los mapas"
      ],
      "metadata": {
        "id": "5-hWzsyXofKh"
      }
    },
    {
      "cell_type": "markdown",
      "source": [
        "Para ellos vamos a sacar las columnas que no nos sirven para realizar ese tipo de busqueda. Para luego usar el método  Fclassif para determinar las mejores columnas."
      ],
      "metadata": {
        "id": "1GgfCMJspFvf"
      }
    },
    {
      "cell_type": "code",
      "source": [
        "csgo_traino =csgo_union.drop(columns = ['dtCreatedAt','tb_players.descCountry','tb_players.dtBirth','descMapName'])\n",
        "scaler_minmax = MinMaxScaler()\n",
        "scaler_minmax.fit(csgo_traino)\n",
        "df_escalado = pd.DataFrame(scaler_minmax.transform(csgo_traino), columns = csgo_traino.columns)\n",
        "\n",
        "# Obtengo tdas las columnas excepto la de indexMap\n",
        "train_fclassif_x = df_escalado.drop('id_map', axis=1 )\n",
        "train_fclassif_y = df_escalado['id_map'].to_numpy()\n",
        "\n",
        "#Crear selector de fclassif\n",
        "\n",
        "fclassifSelector = SelectKBest(f_classif)\n",
        "fclassifSelector.fit(train_fclassif_x, train_fclassif_y)\n",
        "\n",
        "#Obtención de las columnas seleccionadas desde el selector ya entrenado a nuestras características\n",
        "train_fclassif_x.columns[fclassifSelector.get_support(indices=True)].tolist()\n",
        "columns_selected = train_fclassif_x.columns[fclassifSelector.get_support(indices=True)].tolist()\n",
        "print(columns_selected)"
      ],
      "metadata": {
        "colab": {
          "base_uri": "https://localhost:8080/"
        },
        "id": "Pgas_eCF7lCG",
        "outputId": "3fa6ee8f-e163-4661-f562-b4f6ee135b9a"
      },
      "execution_count": null,
      "outputs": [
        {
          "output_type": "stream",
          "name": "stdout",
          "text": [
            "['qtTkAssist', 'qtHits', 'qtShots', 'vlLevel', 'qtFlashAssist', 'qtHitHeadshot', 'qtHitChest', 'qtHitStomach', 'qtHitLeftAtm', 'qtHitRightArm']\n"
          ]
        },
        {
          "output_type": "stream",
          "name": "stderr",
          "text": [
            "/usr/local/lib/python3.9/dist-packages/sklearn/feature_selection/_univariate_selection.py:112: UserWarning: Features [15] are constant.\n",
            "  warnings.warn(\"Features %s are constant.\" % constant_features_idx, UserWarning)\n",
            "/usr/local/lib/python3.9/dist-packages/sklearn/feature_selection/_univariate_selection.py:113: RuntimeWarning: invalid value encountered in true_divide\n",
            "  f = msb / msw\n"
          ]
        }
      ]
    },
    {
      "cell_type": "markdown",
      "source": [
        "Ya tenemos las columnas candidasta"
      ],
      "metadata": {
        "id": "G8W9qcjYKzC7"
      }
    },
    {
      "cell_type": "code",
      "source": [
        "caracteristicas = csgo2[columns_selected]\n",
        "c_objetivo = csgo2['descMapName']\n"
      ],
      "metadata": {
        "id": "9Jz61pU6AWSi"
      },
      "execution_count": null,
      "outputs": []
    },
    {
      "cell_type": "markdown",
      "source": [
        "Separamos nuestro modelo para entrenar y para predecir en un 80% y 20% "
      ],
      "metadata": {
        "id": "tIYT5upqK23W"
      }
    },
    {
      "cell_type": "code",
      "source": [
        "X_train, X_test, y_train, y_test = train_test_split(caracteristicas,c_objetivo,test_size=0.2, random_state=1)\n"
      ],
      "metadata": {
        "id": "NX2hO8OSgoFr"
      },
      "execution_count": null,
      "outputs": []
    },
    {
      "cell_type": "code",
      "source": [
        "escalador_estandar = StandardScaler()\n",
        "escalador_estandar.fit(X_train)\n",
        "X_train = escalador_estandar.transform(X_train)\n",
        "X_test = escalador_estandar.transform(X_test)"
      ],
      "metadata": {
        "id": "kdHxaIPrtmGg"
      },
      "execution_count": null,
      "outputs": []
    },
    {
      "cell_type": "code",
      "source": [
        "#dejo varios modelos porque los estuve probando para ver cual era el porcentaje de eficacia en cada uno\n",
        "modelo = MLPClassifier() \n",
        "#modelo = DecisionTreeClassifier() \n",
        "#modelo =KNeighborsClassifier() \n",
        "#modelo = RandomForestClassifier() \n",
        "modelo.fit(X_train, y_train)\n",
        "\n",
        "preds = modelo.predict(X_test)"
      ],
      "metadata": {
        "id": "VC8Vrwd1_GRk"
      },
      "execution_count": null,
      "outputs": []
    },
    {
      "cell_type": "code",
      "source": [
        "preds_treino = modelo.predict(X_train)"
      ],
      "metadata": {
        "id": "eWZoWTfMzUaG"
      },
      "execution_count": null,
      "outputs": []
    },
    {
      "cell_type": "code",
      "source": [
        "ConfusionMatrixDisplay.from_estimator(modelo, X_test, y_test, xticks_rotation=\"vertical\")"
      ],
      "metadata": {
        "colab": {
          "base_uri": "https://localhost:8080/",
          "height": 803
        },
        "id": "5nao5yu9jaYO",
        "outputId": "72dd46ae-d4c1-468c-b61a-3cc454f0f1f7"
      },
      "execution_count": null,
      "outputs": [
        {
          "output_type": "execute_result",
          "data": {
            "text/plain": [
              "<sklearn.metrics._plot.confusion_matrix.ConfusionMatrixDisplay at 0x7f0c0eccae80>"
            ]
          },
          "metadata": {},
          "execution_count": 173
        },
        {
          "output_type": "display_data",
          "data": {
            "text/plain": [
              "<Figure size 3000x800 with 2 Axes>"
            ],
            "image/png": "[encoded data removed]"
          },
          "metadata": {}
        }
      ]
    },
    {
      "cell_type": "code",
      "source": [
        "#dejo varios modelos porque los estuve probando para ver cual era el porcentaje de eficacia en cada uno\n",
        "#modelo2 = MLPClassifier() \n",
        "#modelo2 = DecisionTreeClassifier() \n",
        "modelo2 =KNeighborsClassifier() \n",
        "#modelo2 = RandomForestClassifier() \n",
        "modelo2.fit(X_train, y_train)\n",
        "\n",
        "preds2 = modelo2.predict(X_test)"
      ],
      "metadata": {
        "id": "_oZbWwIeurkZ"
      },
      "execution_count": null,
      "outputs": []
    },
    {
      "cell_type": "code",
      "source": [
        "pred2_treino = modelo2.predict(X_train)"
      ],
      "metadata": {
        "id": "gHj99PSU84qL"
      },
      "execution_count": null,
      "outputs": []
    },
    {
      "cell_type": "code",
      "source": [
        "ConfusionMatrixDisplay.from_estimator(modelo2, X_test, y_test, xticks_rotation=\"vertical\")"
      ],
      "metadata": {
        "colab": {
          "base_uri": "https://localhost:8080/",
          "height": 803
        },
        "id": "Pu-Yki1duzNl",
        "outputId": "aaf022f0-1fca-4fc9-a9bf-494175f70df5"
      },
      "execution_count": null,
      "outputs": [
        {
          "output_type": "execute_result",
          "data": {
            "text/plain": [
              "<sklearn.metrics._plot.confusion_matrix.ConfusionMatrixDisplay at 0x7f0bff5672e0>"
            ]
          },
          "metadata": {},
          "execution_count": 176
        },
        {
          "output_type": "display_data",
          "data": {
            "text/plain": [
              "<Figure size 3000x800 with 2 Axes>"
            ],
            "image/png": "[encoded data removed]"
          },
          "metadata": {}
        }
      ]
    },
    {
      "cell_type": "markdown",
      "source": [
        "En estos gráficos de matrises de confución podemos obervar que:"
      ],
      "metadata": {
        "id": "UYdKvmjBMMT9"
      }
    },
    {
      "cell_type": "markdown",
      "source": [
        " - En la cantidad de predicciones en ambos el mapa mas facil de determinar es el mapa de \"Mirage\" solamente por tener mayor cantidad de mapas jugados, aquellos con poca cantidad es imposible predecir para el primer modelo.\n",
        " - Se puede ver que se confunde facilmente entre \"Mirage\" e \"Inferno\"."
      ],
      "metadata": {
        "id": "j3gXQCh9MS0S"
      }
    },
    {
      "cell_type": "code",
      "source": [
        "accuracy = accuracy_score(y_test, preds)\n",
        "print(\"Accuracy modelo1:\", accuracy)\n",
        "accuracy = accuracy_score(y_test, preds2)\n",
        "print(\"Accuracy modelo2:\", accuracy)"
      ],
      "metadata": {
        "colab": {
          "base_uri": "https://localhost:8080/"
        },
        "id": "KIYOZmGdLtev",
        "outputId": "dde1a5c0-a780-400c-d049-80897407f827"
      },
      "execution_count": null,
      "outputs": [
        {
          "output_type": "stream",
          "name": "stdout",
          "text": [
            "Accuracy modelo1: 0.36898265048464607\n",
            "Accuracy modelo2: 0.27542016236322664\n"
          ]
        }
      ]
    },
    {
      "cell_type": "markdown",
      "source": [
        "Este modelo de redes neuronales tiene una presición del 36% \n",
        "y el segundo de RamdonForest tiene una precision del 27%\n"
      ],
      "metadata": {
        "id": "YYUllvTeM8mR"
      }
    },
    {
      "cell_type": "markdown",
      "source": [
        "<h3>Redes Neuronales</h3>"
      ],
      "metadata": {
        "id": "XTLguyX0zqiP"
      }
    },
    {
      "cell_type": "code",
      "source": [
        "print(\"Prect\"+\" \"+metrics.classification_report(y_test, preds))\n",
        "print(\"Traino\"+\" \"+metrics.classification_report(y_train, preds_treino))"
      ],
      "metadata": {
        "colab": {
          "base_uri": "https://localhost:8080/"
        },
        "id": "2_qo2zgukPVD",
        "outputId": "7d92f91d-7cd6-4d10-d9c0-06420f07f5ba"
      },
      "execution_count": null,
      "outputs": [
        {
          "output_type": "stream",
          "name": "stderr",
          "text": [
            "/usr/local/lib/python3.9/dist-packages/sklearn/metrics/_classification.py:1344: UndefinedMetricWarning: Precision and F-score are ill-defined and being set to 0.0 in labels with no predicted samples. Use `zero_division` parameter to control this behavior.\n",
            "  _warn_prf(average, modifier, msg_start, len(result))\n",
            "/usr/local/lib/python3.9/dist-packages/sklearn/metrics/_classification.py:1344: UndefinedMetricWarning: Precision and F-score are ill-defined and being set to 0.0 in labels with no predicted samples. Use `zero_division` parameter to control this behavior.\n",
            "  _warn_prf(average, modifier, msg_start, len(result))\n",
            "/usr/local/lib/python3.9/dist-packages/sklearn/metrics/_classification.py:1344: UndefinedMetricWarning: Precision and F-score are ill-defined and being set to 0.0 in labels with no predicted samples. Use `zero_division` parameter to control this behavior.\n",
            "  _warn_prf(average, modifier, msg_start, len(result))\n"
          ]
        },
        {
          "output_type": "stream",
          "name": "stdout",
          "text": [
            "Prect               precision    recall  f1-score   support\n",
            "\n",
            "  de_ancient       0.00      0.00      0.00       842\n",
            "    de_dust2       0.27      0.01      0.01      4829\n",
            "  de_inferno       0.43      0.46      0.44      8533\n",
            "   de_mirage       0.35      0.83      0.49     11451\n",
            "     de_nuke       0.23      0.01      0.01      2825\n",
            " de_overpass       0.00      0.00      0.00      2807\n",
            "    de_train       0.00      0.00      0.00      1576\n",
            "  de_vertigo       0.25      0.03      0.05      3968\n",
            "\n",
            "    accuracy                           0.37     36831\n",
            "   macro avg       0.19      0.17      0.13     36831\n",
            "weighted avg       0.29      0.37      0.26     36831\n",
            "\n"
          ]
        },
        {
          "output_type": "stream",
          "name": "stderr",
          "text": [
            "/usr/local/lib/python3.9/dist-packages/sklearn/metrics/_classification.py:1344: UndefinedMetricWarning: Precision and F-score are ill-defined and being set to 0.0 in labels with no predicted samples. Use `zero_division` parameter to control this behavior.\n",
            "  _warn_prf(average, modifier, msg_start, len(result))\n",
            "/usr/local/lib/python3.9/dist-packages/sklearn/metrics/_classification.py:1344: UndefinedMetricWarning: Precision and F-score are ill-defined and being set to 0.0 in labels with no predicted samples. Use `zero_division` parameter to control this behavior.\n",
            "  _warn_prf(average, modifier, msg_start, len(result))\n"
          ]
        },
        {
          "output_type": "stream",
          "name": "stdout",
          "text": [
            "Traino               precision    recall  f1-score   support\n",
            "\n",
            "  de_ancient       0.50      0.00      0.00      3391\n",
            "    de_dust2       0.26      0.01      0.01     19005\n",
            "  de_inferno       0.43      0.48      0.45     33540\n",
            "   de_mirage       0.36      0.83      0.50     46650\n",
            "     de_nuke       0.26      0.01      0.02     11228\n",
            " de_overpass       1.00      0.00      0.00     11281\n",
            "    de_train       0.00      0.00      0.00      6270\n",
            "  de_vertigo       0.26      0.03      0.05     15956\n",
            "\n",
            "    accuracy                           0.38    147321\n",
            "   macro avg       0.38      0.17      0.13    147321\n",
            "weighted avg       0.38      0.38      0.27    147321\n",
            "\n"
          ]
        },
        {
          "output_type": "stream",
          "name": "stderr",
          "text": [
            "/usr/local/lib/python3.9/dist-packages/sklearn/metrics/_classification.py:1344: UndefinedMetricWarning: Precision and F-score are ill-defined and being set to 0.0 in labels with no predicted samples. Use `zero_division` parameter to control this behavior.\n",
            "  _warn_prf(average, modifier, msg_start, len(result))\n"
          ]
        }
      ]
    },
    {
      "cell_type": "markdown",
      "source": [
        "<h3>RandomForest</h3>"
      ],
      "metadata": {
        "id": "f1rtFvoHztua"
      }
    },
    {
      "cell_type": "code",
      "source": [
        "print(\"Prect\"+\" \"+metrics.classification_report(y_test, preds2))\n",
        "print(\"Traino\"+\" \"+metrics.classification_report(y_train, pred2_treino))"
      ],
      "metadata": {
        "colab": {
          "base_uri": "https://localhost:8080/"
        },
        "id": "JyeEag4BvEFj",
        "outputId": "aa089225-ff4b-496f-b610-e920ebf0f924"
      },
      "execution_count": null,
      "outputs": [
        {
          "output_type": "stream",
          "name": "stdout",
          "text": [
            "Prect               precision    recall  f1-score   support\n",
            "\n",
            "  de_ancient       0.03      0.04      0.03       842\n",
            "    de_dust2       0.15      0.20      0.17      4829\n",
            "  de_inferno       0.34      0.42      0.37      8533\n",
            "   de_mirage       0.35      0.45      0.39     11451\n",
            "     de_nuke       0.11      0.05      0.07      2825\n",
            " de_overpass       0.10      0.03      0.05      2807\n",
            "    de_train       0.05      0.01      0.02      1576\n",
            "  de_vertigo       0.13      0.05      0.08      3968\n",
            "\n",
            "    accuracy                           0.28     36831\n",
            "   macro avg       0.16      0.16      0.15     36831\n",
            "weighted avg       0.24      0.28      0.25     36831\n",
            "\n",
            "Traino               precision    recall  f1-score   support\n",
            "\n",
            "  de_ancient       0.25      0.29      0.27      3391\n",
            "    de_dust2       0.38      0.49      0.43     19005\n",
            "  de_inferno       0.51      0.65      0.57     33540\n",
            "   de_mirage       0.53      0.67      0.59     46650\n",
            "     de_nuke       0.45      0.19      0.27     11228\n",
            " de_overpass       0.44      0.16      0.23     11281\n",
            "    de_train       0.45      0.10      0.16      6270\n",
            "  de_vertigo       0.46      0.21      0.29     15956\n",
            "\n",
            "    accuracy                           0.48    147321\n",
            "   macro avg       0.43      0.35      0.35    147321\n",
            "weighted avg       0.48      0.48      0.46    147321\n",
            "\n"
          ]
        }
      ]
    },
    {
      "cell_type": "markdown",
      "source": [
        "<h2> Conclusiones"
      ],
      "metadata": {
        "id": "Ri-ZY4irvBEA"
      }
    },
    {
      "cell_type": "markdown",
      "source": [
        "Las conclusiones para ambos modelos implementos son muy malas, ya que ambos tienen muy baja probabilidad de poder indicar que mapa puede salir. Además ya con los resultados de entrenamiento se puede observar que no tienen tampoco buen rendmiento."
      ],
      "metadata": {
        "id": "L8A9xQSAsi0K"
      }
    },
    {
      "cell_type": "markdown",
      "source": [
        "Por lo tanto, considero que los resultados obtenidos son mejores de los esperados ya que el dataset no indica nada sustancial que permita identificar la decisión a la hora de definir el mapa. Por lo tanto tener un 30% de posibilidad solamente por datos de la partida jugada es valido. Se podría mejorar probando otro tipo de modelo de predicción, como así también el modelo para definir las columnas candidatas o mejorando el proceso de transformación usando los modulos correspondientes."
      ],
      "metadata": {
        "id": "pmHLchSYqlkY"
      }
    },
    {
      "cell_type": "markdown",
      "source": [
        "Claramente podes decir que el modelo tiene underfitting ya quen no es capaz de predecir las variales pero no por culpa del modelo, si no del dataset."
      ],
      "metadata": {
        "id": "Sjny3Sieu_vK"
      }
    }
  ]
}